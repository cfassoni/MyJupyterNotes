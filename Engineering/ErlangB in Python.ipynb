{
 "cells": [
  {
   "cell_type": "markdown",
   "metadata": {},
   "source": [
    "# ErlangB in Python"
   ]
  },
  {
   "cell_type": "markdown",
   "metadata": {
    "collapsed": true
   },
   "source": [
    "## About this Notebook\n",
    "\n",
    "This notebook is based on the study by Professor Sanzheng Qiao, PhD, from the paper [\"A Robust and Efficient Algorithm for Evaluating Erlang's Formula\"](https://www.cas.mcmaster.ca/~qiao/publications/erlang/newerlang.html).\n",
    "\n",
    "I late of 90's when I was working in a Mobile operator, I found this paper and ported the algorithm to Delphi/Pascal and created my first calculator for Windows, which helped me for years working in system engineering and planning network traffic for the company.\n",
    "\n",
    "Later I ported it to Excel VBS, Java, C++ and C# as part of my own development in those programming languages. Now it's not diferent and, as part of my own study in Python and further Data Science models, I ported the ErlangB code to Python and documented in this nice Jupyter Notebook archive.\n",
    "\n",
    "Hope you enjoy, reuse, contribute and share it freely."
   ]
  },
  {
   "cell_type": "markdown",
   "metadata": {},
   "source": [
    "## Erlang Unit\n",
    "\n",
    "The erlang is a dimensionless unit that is used in telephony as a measure of offered load or carried load on service-providing elements such as telephone circuits or telephone switching equipment. A single cord circuit has the capacity to be used for 60 minutes in one hour. Full utilization of that capacity, 60 minutes of traffic, constitutes 1 erlang. [Wikipedia](https://en.wikipedia.org/wiki/Erlang_(unit))\n",
    "\n",
    "## Erlang B Formula\n",
    "\n",
    "**Erlang-B** (sometimes also written without the hyphen Erlang), also known as the Erlang loss formula, is a formula for the blocking probability that describes the probability of call losses for a group of identical parallel resources (telephone lines, circuits, traffic channels, or equivalent). It is used to dimension a telephone network's links. The formula was derived by [Agner Krarup Erlang](https://en.wikipedia.org/wiki/Agner_Krarup_Erlang) and is not limited to telephone networks, since it describes a probability in a queuing system (albeit a special case with a number of servers but no queueing space for incoming calls to wait for a free server). Hence, the formula is also used in certain inventory systems with lost sales.\n",
    "\n",
    "The formula below provides the GoS (grade of service) $P_b$ which is the probability that a new call arriving to the resources group is rejected because all resources (servers, lines, circuits) are busy:  $B(E,m)$ where $E$ is the total offered traffic in erlang, offered to $m$ identical parallel resources (servers, communication channels, traffic lanes).\n",
    "\n",
    "\\begin{equation*}\n",
    "P_b = B(E,m) = \\frac{\\frac{E^m}{m!}} { \\sum_{i=0}^m \\frac{E^i}{i!}}\n",
    "\\end{equation*}\n",
    "\n",
    "where:\n",
    "* $P_b$ is the probability of blocking \n",
    "* $m$ is the number of identical parallel resources such as servers, telephone lines, etc.\n",
    "* $E$ is the normalised ingress load (offered traffic stated in erlang).\n"
   ]
  },
  {
   "cell_type": "markdown",
   "metadata": {},
   "source": [
    "## Evaluating Erlang Formula"
   ]
  },
  {
   "cell_type": "code",
   "execution_count": 7,
   "metadata": {
    "collapsed": true
   },
   "outputs": [],
   "source": [
    "def ErlangB_Pb(E,m):\n",
    "    \"\"\"\n",
    "    ErlangB_Pb Calculates the Probability of Blocking\n",
    "    where:\n",
    "        E is the load in Erlang, and\n",
    "        m is the number of resources\n",
    "    \"\"\"\n",
    "    s = 1.0\n",
    "    for i in range(1,m+1):\n",
    "        s = 1 + s * i / E\n",
    "    return (1 / s)"
   ]
  },
  {
   "cell_type": "code",
   "execution_count": 8,
   "metadata": {},
   "outputs": [
    {
     "data": {
      "text/plain": [
       "0.007936563248805666"
      ]
     },
     "execution_count": 8,
     "metadata": {},
     "output_type": "execute_result"
    }
   ],
   "source": [
    "ErlangB_Pb(10000,10000)"
   ]
  },
  {
   "cell_type": "markdown",
   "metadata": {},
   "source": [
    "## To be Done\n",
    "\n",
    "- check for E and m values in range or throw an exception\n",
    "- ErlangB_E - given Pb and m, calculates the offered load in erlang\n",
    "- ErlangB_m - given Pb and E, calculates the resources needed\n"
   ]
  },
  {
   "cell_type": "markdown",
   "metadata": {},
   "source": [
    "## References\n",
    "\n",
    "1. [\"A Robust and Efficient Algorithm for Evaluating Erlang's Formula\"](https://www.cas.mcmaster.ca/~qiao/publications/erlang/newerlang.html)\n",
    "2. https://en.wikipedia.org/wiki/Erlang_(unit)\n"
   ]
  }
 ],
 "metadata": {
  "kernelspec": {
   "display_name": "Python 3",
   "language": "python",
   "name": "python3"
  },
  "language_info": {
   "codemirror_mode": {
    "name": "ipython",
    "version": 3
   },
   "file_extension": ".py",
   "mimetype": "text/x-python",
   "name": "python",
   "nbconvert_exporter": "python",
   "pygments_lexer": "ipython3",
   "version": "3.6.3"
  }
 },
 "nbformat": 4,
 "nbformat_minor": 2
}
